{
 "cells": [
  {
   "cell_type": "code",
   "execution_count": 1,
   "metadata": {},
   "outputs": [
    {
     "name": "stdout",
     "output_type": "stream",
     "text": [
      "Requirement already satisfied: mediapipe-silicon in /Users/yashedake/miniforge3/envs/aitrainer/lib/python3.11/site-packages (0.9.2.1)\n",
      "Requirement already satisfied: absl-py in /Users/yashedake/miniforge3/envs/aitrainer/lib/python3.11/site-packages (from mediapipe-silicon) (1.4.0)\n",
      "Requirement already satisfied: attrs>=19.1.0 in /Users/yashedake/miniforge3/envs/aitrainer/lib/python3.11/site-packages (from mediapipe-silicon) (23.1.0)\n",
      "Requirement already satisfied: flatbuffers>=2.0 in /Users/yashedake/miniforge3/envs/aitrainer/lib/python3.11/site-packages (from mediapipe-silicon) (23.5.26)\n",
      "Requirement already satisfied: matplotlib in /Users/yashedake/miniforge3/envs/aitrainer/lib/python3.11/site-packages (from mediapipe-silicon) (3.7.2)\n",
      "Requirement already satisfied: numpy in /Users/yashedake/miniforge3/envs/aitrainer/lib/python3.11/site-packages (from mediapipe-silicon) (1.25.2)\n",
      "Requirement already satisfied: opencv-contrib-python in /Users/yashedake/miniforge3/envs/aitrainer/lib/python3.11/site-packages (from mediapipe-silicon) (4.8.0.76)\n",
      "Requirement already satisfied: protobuf<4,>=3.11 in /Users/yashedake/miniforge3/envs/aitrainer/lib/python3.11/site-packages (from mediapipe-silicon) (3.20.3)\n",
      "Requirement already satisfied: contourpy>=1.0.1 in /Users/yashedake/miniforge3/envs/aitrainer/lib/python3.11/site-packages (from matplotlib->mediapipe-silicon) (1.1.0)\n",
      "Requirement already satisfied: cycler>=0.10 in /Users/yashedake/miniforge3/envs/aitrainer/lib/python3.11/site-packages (from matplotlib->mediapipe-silicon) (0.11.0)\n",
      "Requirement already satisfied: fonttools>=4.22.0 in /Users/yashedake/miniforge3/envs/aitrainer/lib/python3.11/site-packages (from matplotlib->mediapipe-silicon) (4.42.0)\n",
      "Requirement already satisfied: kiwisolver>=1.0.1 in /Users/yashedake/miniforge3/envs/aitrainer/lib/python3.11/site-packages (from matplotlib->mediapipe-silicon) (1.4.4)\n",
      "Requirement already satisfied: packaging>=20.0 in /Users/yashedake/miniforge3/envs/aitrainer/lib/python3.11/site-packages (from matplotlib->mediapipe-silicon) (23.1)\n",
      "Requirement already satisfied: pillow>=6.2.0 in /Users/yashedake/miniforge3/envs/aitrainer/lib/python3.11/site-packages (from matplotlib->mediapipe-silicon) (10.0.0)\n",
      "Requirement already satisfied: pyparsing<3.1,>=2.3.1 in /Users/yashedake/miniforge3/envs/aitrainer/lib/python3.11/site-packages (from matplotlib->mediapipe-silicon) (3.0.9)\n",
      "Requirement already satisfied: python-dateutil>=2.7 in /Users/yashedake/miniforge3/envs/aitrainer/lib/python3.11/site-packages (from matplotlib->mediapipe-silicon) (2.8.2)\n",
      "Requirement already satisfied: six>=1.5 in /Users/yashedake/miniforge3/envs/aitrainer/lib/python3.11/site-packages (from python-dateutil>=2.7->matplotlib->mediapipe-silicon) (1.16.0)\n"
     ]
    }
   ],
   "source": [
    "!pip install mediapipe-silicon"
   ]
  },
  {
   "cell_type": "code",
   "execution_count": 2,
   "metadata": {},
   "outputs": [
    {
     "name": "stderr",
     "output_type": "stream",
     "text": [
      "objc[83565]: Class CaptureDelegate is implemented in both /Users/yashedake/miniforge3/envs/aitrainer/lib/python3.11/site-packages/cv2/cv2.abi3.so (0x14c9665e0) and /Users/yashedake/miniforge3/envs/aitrainer/lib/python3.11/site-packages/mediapipe/.dylibs/libopencv_videoio.3.4.16.dylib (0x12e580860). One of the two will be used. Which one is undefined.\n",
      "objc[83565]: Class CVWindow is implemented in both /Users/yashedake/miniforge3/envs/aitrainer/lib/python3.11/site-packages/cv2/cv2.abi3.so (0x14c966630) and /Users/yashedake/miniforge3/envs/aitrainer/lib/python3.11/site-packages/mediapipe/.dylibs/libopencv_highgui.3.4.16.dylib (0x10faf0a68). One of the two will be used. Which one is undefined.\n",
      "objc[83565]: Class CVView is implemented in both /Users/yashedake/miniforge3/envs/aitrainer/lib/python3.11/site-packages/cv2/cv2.abi3.so (0x14c966658) and /Users/yashedake/miniforge3/envs/aitrainer/lib/python3.11/site-packages/mediapipe/.dylibs/libopencv_highgui.3.4.16.dylib (0x10faf0a90). One of the two will be used. Which one is undefined.\n",
      "objc[83565]: Class CVSlider is implemented in both /Users/yashedake/miniforge3/envs/aitrainer/lib/python3.11/site-packages/cv2/cv2.abi3.so (0x14c966680) and /Users/yashedake/miniforge3/envs/aitrainer/lib/python3.11/site-packages/mediapipe/.dylibs/libopencv_highgui.3.4.16.dylib (0x10faf0ab8). One of the two will be used. Which one is undefined.\n"
     ]
    }
   ],
   "source": [
    "import cv2\n",
    "import mediapipe as mp\n",
    "import numpy as np\n",
    "mp_drawing = mp.solutions.drawing_utils\n",
    "mp_pose = mp.solutions.pose\n"
   ]
  },
  {
   "cell_type": "code",
   "execution_count": 8,
   "metadata": {},
   "outputs": [],
   "source": [
    "# Video Input\n",
    "\n",
    "# cap = cv2.VideoCapture(0)\n",
    "# while cap.isOpened():\n",
    "#     ret, frame = cap.read()\n",
    "#     cv2.imshow('Mediapipe Feed', frame)\n",
    "\n",
    "#     if cv2.waitKey(10) & 0xFF == ord('q'):\n",
    "#         break\n",
    "\n",
    "# cap.release()\n",
    "# cv2.destroyAllWindows()"
   ]
  },
  {
   "cell_type": "code",
   "execution_count": 3,
   "metadata": {},
   "outputs": [
    {
     "name": "stderr",
     "output_type": "stream",
     "text": [
      "INFO: Created TensorFlow Lite XNNPACK delegate for CPU.\n"
     ]
    },
    {
     "ename": "KeyboardInterrupt",
     "evalue": "",
     "output_type": "error",
     "traceback": [
      "\u001b[0;31m---------------------------------------------------------------------------\u001b[0m",
      "\u001b[0;31mKeyboardInterrupt\u001b[0m                         Traceback (most recent call last)",
      "Cell \u001b[0;32mIn[3], line 12\u001b[0m\n\u001b[1;32m      9\u001b[0m image\u001b[39m.\u001b[39mflags\u001b[39m.\u001b[39mwriteable \u001b[39m=\u001b[39m \u001b[39mFalse\u001b[39;00m\n\u001b[1;32m     11\u001b[0m \u001b[39m# Make detection\u001b[39;00m\n\u001b[0;32m---> 12\u001b[0m results \u001b[39m=\u001b[39m pose\u001b[39m.\u001b[39;49mprocess(image)\n\u001b[1;32m     14\u001b[0m \u001b[39m# Recolor back to BGR\u001b[39;00m\n\u001b[1;32m     15\u001b[0m image\u001b[39m.\u001b[39mflags\u001b[39m.\u001b[39mwriteable \u001b[39m=\u001b[39m \u001b[39mTrue\u001b[39;00m\n",
      "File \u001b[0;32m~/miniforge3/envs/aitrainer/lib/python3.11/site-packages/mediapipe/python/solutions/pose.py:185\u001b[0m, in \u001b[0;36mPose.process\u001b[0;34m(self, image)\u001b[0m\n\u001b[1;32m    164\u001b[0m \u001b[39mdef\u001b[39;00m \u001b[39mprocess\u001b[39m(\u001b[39mself\u001b[39m, image: np\u001b[39m.\u001b[39mndarray) \u001b[39m-\u001b[39m\u001b[39m>\u001b[39m NamedTuple:\n\u001b[1;32m    165\u001b[0m \u001b[39m  \u001b[39m\u001b[39m\"\"\"Processes an RGB image and returns the pose landmarks on the most prominent person detected.\u001b[39;00m\n\u001b[1;32m    166\u001b[0m \n\u001b[1;32m    167\u001b[0m \u001b[39m  Args:\u001b[39;00m\n\u001b[0;32m   (...)\u001b[0m\n\u001b[1;32m    182\u001b[0m \u001b[39m         \"enable_segmentation\" is set to true.\u001b[39;00m\n\u001b[1;32m    183\u001b[0m \u001b[39m  \"\"\"\u001b[39;00m\n\u001b[0;32m--> 185\u001b[0m   results \u001b[39m=\u001b[39m \u001b[39msuper\u001b[39;49m()\u001b[39m.\u001b[39;49mprocess(input_data\u001b[39m=\u001b[39;49m{\u001b[39m'\u001b[39;49m\u001b[39mimage\u001b[39;49m\u001b[39m'\u001b[39;49m: image})\n\u001b[1;32m    186\u001b[0m   \u001b[39mif\u001b[39;00m results\u001b[39m.\u001b[39mpose_landmarks:  \u001b[39m# pytype: disable=attribute-error\u001b[39;00m\n\u001b[1;32m    187\u001b[0m     \u001b[39mfor\u001b[39;00m landmark \u001b[39min\u001b[39;00m results\u001b[39m.\u001b[39mpose_landmarks\u001b[39m.\u001b[39mlandmark:  \u001b[39m# pytype: disable=attribute-error\u001b[39;00m\n",
      "File \u001b[0;32m~/miniforge3/envs/aitrainer/lib/python3.11/site-packages/mediapipe/python/solution_base.py:365\u001b[0m, in \u001b[0;36mSolutionBase.process\u001b[0;34m(self, input_data)\u001b[0m\n\u001b[1;32m    359\u001b[0m   \u001b[39melse\u001b[39;00m:\n\u001b[1;32m    360\u001b[0m     \u001b[39mself\u001b[39m\u001b[39m.\u001b[39m_graph\u001b[39m.\u001b[39madd_packet_to_input_stream(\n\u001b[1;32m    361\u001b[0m         stream\u001b[39m=\u001b[39mstream_name,\n\u001b[1;32m    362\u001b[0m         packet\u001b[39m=\u001b[39m\u001b[39mself\u001b[39m\u001b[39m.\u001b[39m_make_packet(input_stream_type,\n\u001b[1;32m    363\u001b[0m                                  data)\u001b[39m.\u001b[39mat(\u001b[39mself\u001b[39m\u001b[39m.\u001b[39m_simulated_timestamp))\n\u001b[0;32m--> 365\u001b[0m \u001b[39mself\u001b[39;49m\u001b[39m.\u001b[39;49m_graph\u001b[39m.\u001b[39;49mwait_until_idle()\n\u001b[1;32m    366\u001b[0m \u001b[39m# Create a NamedTuple object where the field names are mapping to the graph\u001b[39;00m\n\u001b[1;32m    367\u001b[0m \u001b[39m# output stream names.\u001b[39;00m\n\u001b[1;32m    368\u001b[0m solution_outputs \u001b[39m=\u001b[39m collections\u001b[39m.\u001b[39mnamedtuple(\n\u001b[1;32m    369\u001b[0m     \u001b[39m'\u001b[39m\u001b[39mSolutionOutputs\u001b[39m\u001b[39m'\u001b[39m, \u001b[39mself\u001b[39m\u001b[39m.\u001b[39m_output_stream_type_info\u001b[39m.\u001b[39mkeys())\n",
      "\u001b[0;31mKeyboardInterrupt\u001b[0m: "
     ]
    },
    {
     "ename": "",
     "evalue": "",
     "output_type": "error",
     "traceback": [
      "\u001b[1;31mThe Kernel crashed while executing code in the the current cell or a previous cell. Please review the code in the cell(s) to identify a possible cause of the failure. Click <a href='https://aka.ms/vscodeJupyterKernelCrash'>here</a> for more info. View Jupyter <a href='command:jupyter.viewOutput'>log</a> for further details."
     ]
    }
   ],
   "source": [
    "cap = cv2.VideoCapture(0)\n",
    "## Setup mediapipe instance\n",
    "with mp_pose.Pose(min_detection_confidence=0.5, min_tracking_confidence=0.5) as pose:\n",
    "    while cap.isOpened():\n",
    "        ret, frame = cap.read()\n",
    "        \n",
    "        # Recolor image to RGB\n",
    "        image = cv2.cvtColor(frame, cv2.COLOR_BGR2RGB)\n",
    "        image.flags.writeable = False\n",
    "      \n",
    "        # Make detection\n",
    "        results = pose.process(image)\n",
    "    \n",
    "        # Recolor back to BGR\n",
    "        image.flags.writeable = True\n",
    "        image = cv2.cvtColor(image, cv2.COLOR_RGB2BGR)\n",
    "\n",
    "        try:\n",
    "            landmarks = results.pose_landmarks.landmark\n",
    "        except:\n",
    "            pass\n",
    "        \n",
    "        # Render detections\n",
    "        mp_drawing.draw_landmarks(image, results.pose_landmarks, mp_pose.POSE_CONNECTIONS,\n",
    "                                mp_drawing.DrawingSpec(color=(245,117,66), thickness=2, circle_radius=2), \n",
    "                                mp_drawing.DrawingSpec(color=(245,66,230), thickness=2, circle_radius=2) \n",
    "                                 )               \n",
    "        \n",
    "        cv2.imshow('Mediapipe Feed', image)\n",
    "\n",
    "        if cv2.waitKey(10) & 0xFF == ord('q'):\n",
    "            break\n",
    "\n",
    "    cap.release()\n",
    "    cv2.destroyAllWindows()"
   ]
  },
  {
   "cell_type": "code",
   "execution_count": 10,
   "metadata": {},
   "outputs": [],
   "source": [
    "def calculate_angle(a,b,c) :\n",
    " a = np.array(a) # First\n",
    " b = np.array(b) # Mid\n",
    " c = np.array(c) # End\n",
    " radians = np.arctan2(c[1]-b[1], c[o]-b[0]) - np.arctan2(a[1]-b[1], a[0]-b[0])\n",
    " angle = np.abs (radians*180.0/np.pi)\n",
    " if angle >180.0:\n",
    "    angle = 360-angle\n",
    " return angle"
   ]
  },
  {
   "cell_type": "code",
   "execution_count": 12,
   "metadata": {},
   "outputs": [],
   "source": [
    "shoulder = [landmarks[mp_pose.PoseLandmark.LEFT_SHOULDER.value].x, landmarks[mp_pose.PoseLandmark.LEFT_SHOULDER.value].y]\n",
    "elbow = [landmarks[mp_pose.PoseLandmark.LEFT_ELBOW.value].x, landmarks[mp_pose.PoseLandmark.LEFT_ELBOW.value].y]\n",
    "wrist = [landmarks[mp_pose.PoseLandmark.LEFT_WRIST.value].x, landmarks[mp_pose.PoseLandmark.LEFT_WRIST.value].y]\n"
   ]
  },
  {
   "cell_type": "code",
   "execution_count": 13,
   "metadata": {},
   "outputs": [
    {
     "data": {
      "text/plain": [
       "([0.7827130556106567, 0.9327409267425537],\n",
       " [0.9217287302017212, 1.429141879081726],\n",
       " [0.8673104047775269, 1.8866231441497803])"
      ]
     },
     "execution_count": 13,
     "metadata": {},
     "output_type": "execute_result"
    },
    {
     "ename": "",
     "evalue": "",
     "output_type": "error",
     "traceback": [
      "\u001b[1;31mThe Kernel crashed while executing code in the the current cell or a previous cell. Please review the code in the cell(s) to identify a possible cause of the failure. Click <a href='https://aka.ms/vscodeJupyterKernelCrash'>here</a> for more info. View Jupyter <a href='command:jupyter.viewOutput'>log</a> for further details."
     ]
    }
   ],
   "source": [
    "shoulder, elbow, wrist"
   ]
  }
 ],
 "metadata": {
  "kernelspec": {
   "display_name": "aitrainer",
   "language": "python",
   "name": "python3"
  },
  "language_info": {
   "codemirror_mode": {
    "name": "ipython",
    "version": 3
   },
   "file_extension": ".py",
   "mimetype": "text/x-python",
   "name": "python",
   "nbconvert_exporter": "python",
   "pygments_lexer": "ipython3",
   "version": "3.11.4"
  },
  "orig_nbformat": 4
 },
 "nbformat": 4,
 "nbformat_minor": 2
}
